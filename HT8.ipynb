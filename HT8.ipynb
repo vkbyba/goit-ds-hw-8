{
 "cells": [
  {
   "cell_type": "code",
   "execution_count": 22,
   "metadata": {},
   "outputs": [],
   "source": [
    "import pandas as pd\n",
    "import numpy as np\n",
    "import os\n",
    "from sklearn.model_selection import train_test_split\n",
    "from sklearn.preprocessing import StandardScaler\n",
    "from sklearn.svm import SVC\n",
    "from sklearn.ensemble import RandomForestClassifier\n",
    "from sklearn.metrics import classification_report, accuracy_score\n"
   ]
  },
  {
   "cell_type": "markdown",
   "metadata": {},
   "source": [
    "Data"
   ]
  },
  {
   "cell_type": "code",
   "execution_count": 23,
   "metadata": {},
   "outputs": [],
   "source": [
    "extracted_dir_path = 'homework'"
   ]
  },
  {
   "cell_type": "markdown",
   "metadata": {},
   "source": [
    "Extraction of features"
   ]
  },
  {
   "cell_type": "code",
   "execution_count": 24,
   "metadata": {},
   "outputs": [],
   "source": [
    "def extract_features(df):\n",
    "    features = {}\n",
    "    for axis in ['X', 'Y', 'Z']:\n",
    "        data = df[f'accelerometer_{axis}']\n",
    "        features[f'mean_{axis}'] = data.mean()\n",
    "        features[f'std_{axis}'] = data.std()\n",
    "        features[f'max_{axis}'] = data.max()\n",
    "        features[f'min_{axis}'] = data.min()\n",
    "        features[f'range_{axis}'] = data.max() - data.min()\n",
    "        features[f'median_{axis}'] = data.median()\n",
    "        features[f'var_{axis}'] = data.var()\n",
    "        features[f'energy_{axis}'] = (data ** 2).sum()\n",
    "        features[f'iqr_{axis}'] = data.quantile(0.75) - data.quantile(0.25)\n",
    "    return features"
   ]
  },
  {
   "cell_type": "markdown",
   "metadata": {},
   "source": [
    "Loading of Data"
   ]
  },
  {
   "cell_type": "code",
   "execution_count": 25,
   "metadata": {},
   "outputs": [],
   "source": [
    "activity_dirs = ['idle', 'running', 'stairs', 'walking']\n",
    "activity_data = {}"
   ]
  },
  {
   "cell_type": "code",
   "execution_count": 26,
   "metadata": {},
   "outputs": [],
   "source": [
    "for activity in activity_dirs:\n",
    "    activity_path = os.path.join(extracted_dir_path, 'data', activity)\n",
    "    if not os.path.exists(activity_path):\n",
    "        print(f\"Directory {activity_path} does not exist.\")\n",
    "        continue\n",
    "    activity_files = os.listdir(activity_path)\n",
    "    activity_data[activity] = []\n",
    "    for file in activity_files:\n",
    "        if file.endswith('.csv'):\n",
    "            file_path = os.path.join(activity_path, file)\n",
    "            df = pd.read_csv(file_path)\n",
    "            activity_data[activity].append(df)"
   ]
  },
  {
   "cell_type": "markdown",
   "metadata": {},
   "source": [
    "Dataset"
   ]
  },
  {
   "cell_type": "code",
   "execution_count": 27,
   "metadata": {},
   "outputs": [],
   "source": [
    "data = []\n",
    "labels = []\n",
    "\n",
    "for activity, dfs in activity_data.items():\n",
    "    for df in dfs:\n",
    "        features = extract_features(df)\n",
    "        data.append(features)\n",
    "        labels.append(activity)\n",
    "\n",
    "data = pd.DataFrame(data)\n",
    "labels = pd.Series(labels)\n"
   ]
  },
  {
   "cell_type": "markdown",
   "metadata": {},
   "source": [
    "Dividing for training / testing sets"
   ]
  },
  {
   "cell_type": "code",
   "execution_count": 28,
   "metadata": {},
   "outputs": [],
   "source": [
    "X_train, X_test, y_train, y_test = train_test_split(data, labels, test_size=0.3, random_state=42)"
   ]
  },
  {
   "cell_type": "markdown",
   "metadata": {},
   "source": [
    "Standardize the features"
   ]
  },
  {
   "cell_type": "code",
   "execution_count": 29,
   "metadata": {},
   "outputs": [],
   "source": [
    "scaler = StandardScaler()\n",
    "X_train = scaler.fit_transform(X_train)\n",
    "X_test = scaler.transform(X_test)"
   ]
  },
  {
   "cell_type": "markdown",
   "metadata": {},
   "source": [
    "SVM "
   ]
  },
  {
   "cell_type": "code",
   "execution_count": 30,
   "metadata": {},
   "outputs": [
    {
     "name": "stdout",
     "output_type": "stream",
     "text": [
      "SVM Classification Report\n",
      "              precision    recall  f1-score   support\n",
      "\n",
      "        idle       1.00      1.00      1.00       317\n",
      "     running       1.00      1.00      1.00      1035\n",
      "      stairs       0.90      0.76      0.83        50\n",
      "     walking       0.98      0.99      0.99       537\n",
      "\n",
      "    accuracy                           0.99      1939\n",
      "   macro avg       0.97      0.94      0.95      1939\n",
      "weighted avg       0.99      0.99      0.99      1939\n",
      "\n",
      "SVM Accuracy: 0.9917483238782878\n"
     ]
    }
   ],
   "source": [
    "svm_model = SVC(kernel='linear', random_state=42)\n",
    "svm_model.fit(X_train, y_train)\n",
    "svm_predictions = svm_model.predict(X_test)\n",
    "print(\"SVM Classification Report\")\n",
    "print(classification_report(y_test, svm_predictions))\n",
    "print(\"SVM Accuracy:\", accuracy_score(y_test, svm_predictions))\n"
   ]
  },
  {
   "cell_type": "markdown",
   "metadata": {},
   "source": [
    "Random Forest"
   ]
  },
  {
   "cell_type": "code",
   "execution_count": 31,
   "metadata": {},
   "outputs": [
    {
     "name": "stdout",
     "output_type": "stream",
     "text": [
      "Random Forest Classification Report\n",
      "              precision    recall  f1-score   support\n",
      "\n",
      "        idle       1.00      1.00      1.00       317\n",
      "     running       1.00      1.00      1.00      1035\n",
      "      stairs       1.00      0.92      0.96        50\n",
      "     walking       0.99      1.00      1.00       537\n",
      "\n",
      "    accuracy                           1.00      1939\n",
      "   macro avg       1.00      0.98      0.99      1939\n",
      "weighted avg       1.00      1.00      1.00      1939\n",
      "\n",
      "Random Forest Accuracy: 0.9979370809695719\n"
     ]
    }
   ],
   "source": [
    "rf_model = RandomForestClassifier(n_estimators=100, random_state=42)\n",
    "rf_model.fit(X_train, y_train)\n",
    "rf_predictions = rf_model.predict(X_test)\n",
    "print(\"Random Forest Classification Report\")\n",
    "print(classification_report(y_test, rf_predictions))\n",
    "print(\"Random Forest Accuracy:\", accuracy_score(y_test, rf_predictions))"
   ]
  }
 ],
 "metadata": {
  "kernelspec": {
   "display_name": "Python 3",
   "language": "python",
   "name": "python3"
  },
  "language_info": {
   "codemirror_mode": {
    "name": "ipython",
    "version": 3
   },
   "file_extension": ".py",
   "mimetype": "text/x-python",
   "name": "python",
   "nbconvert_exporter": "python",
   "pygments_lexer": "ipython3",
   "version": "3.12.4"
  }
 },
 "nbformat": 4,
 "nbformat_minor": 2
}
